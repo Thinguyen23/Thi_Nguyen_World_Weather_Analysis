{
 "cells": [
  {
   "cell_type": "code",
   "execution_count": 1,
   "metadata": {},
   "outputs": [],
   "source": [
    "# PART 3\n",
    "# Import dependencies\n",
    "import pandas as pd\n",
    "import gmaps\n",
    "import requests\n",
    "# Import API key\n",
    "from configure import g_key"
   ]
  },
  {
   "cell_type": "code",
   "execution_count": 10,
   "metadata": {},
   "outputs": [
    {
     "data": {
      "text/html": [
       "<div>\n",
       "<style scoped>\n",
       "    .dataframe tbody tr th:only-of-type {\n",
       "        vertical-align: middle;\n",
       "    }\n",
       "\n",
       "    .dataframe tbody tr th {\n",
       "        vertical-align: top;\n",
       "    }\n",
       "\n",
       "    .dataframe thead th {\n",
       "        text-align: right;\n",
       "    }\n",
       "</style>\n",
       "<table border=\"1\" class=\"dataframe\">\n",
       "  <thead>\n",
       "    <tr style=\"text-align: right;\">\n",
       "      <th></th>\n",
       "      <th>City_ID</th>\n",
       "      <th>City</th>\n",
       "      <th>Country</th>\n",
       "      <th>Max Temp</th>\n",
       "      <th>Current Description</th>\n",
       "      <th>Lat</th>\n",
       "      <th>Lng</th>\n",
       "      <th>Hotel Name</th>\n",
       "    </tr>\n",
       "  </thead>\n",
       "  <tbody>\n",
       "    <tr>\n",
       "      <th>0</th>\n",
       "      <td>10</td>\n",
       "      <td>Hervey Bay</td>\n",
       "      <td>AU</td>\n",
       "      <td>86.00</td>\n",
       "      <td>clear sky</td>\n",
       "      <td>-25.30</td>\n",
       "      <td>152.85</td>\n",
       "      <td>Shelly Bay Resort</td>\n",
       "    </tr>\n",
       "    <tr>\n",
       "      <th>1</th>\n",
       "      <td>24</td>\n",
       "      <td>Thinadhoo</td>\n",
       "      <td>MV</td>\n",
       "      <td>82.49</td>\n",
       "      <td>overcast clouds</td>\n",
       "      <td>0.53</td>\n",
       "      <td>72.93</td>\n",
       "      <td>NaN</td>\n",
       "    </tr>\n",
       "    <tr>\n",
       "      <th>2</th>\n",
       "      <td>40</td>\n",
       "      <td>Acapulco</td>\n",
       "      <td>MX</td>\n",
       "      <td>80.60</td>\n",
       "      <td>scattered clouds</td>\n",
       "      <td>16.86</td>\n",
       "      <td>-99.88</td>\n",
       "      <td>Crowne Plaza Acapulco</td>\n",
       "    </tr>\n",
       "  </tbody>\n",
       "</table>\n",
       "</div>"
      ],
      "text/plain": [
       "   City_ID        City Country  Max Temp Current Description    Lat     Lng  \\\n",
       "0       10  Hervey Bay      AU     86.00           clear sky -25.30  152.85   \n",
       "1       24   Thinadhoo      MV     82.49     overcast clouds   0.53   72.93   \n",
       "2       40    Acapulco      MX     80.60    scattered clouds  16.86  -99.88   \n",
       "\n",
       "              Hotel Name  \n",
       "0      Shelly Bay Resort  \n",
       "1                    NaN  \n",
       "2  Crowne Plaza Acapulco  "
      ]
     },
     "execution_count": 10,
     "metadata": {},
     "output_type": "execute_result"
    }
   ],
   "source": [
    "# 2. Read and load the hotels database (WeatherPy_vacation.csv) from Part 2\n",
    "hotel_df = pd.read_csv('weather_data\\challenge_data\\WeatherPy_vacation.csv')\n",
    "hotel_df.head(3)"
   ]
  },
  {
   "cell_type": "code",
   "execution_count": 3,
   "metadata": {},
   "outputs": [],
   "source": [
    "# Configure gmaps to use your Google API key.\n",
    "gmaps.configure(api_key=g_key)"
   ]
  },
  {
   "cell_type": "code",
   "execution_count": 4,
   "metadata": {},
   "outputs": [
    {
     "data": {
      "text/plain": [
       "((16.86, -99.88), (11.85, -86.44), (10.15, -85.45), (16.17, -88.94))"
      ]
     },
     "execution_count": 4,
     "metadata": {},
     "output_type": "execute_result"
    }
   ],
   "source": [
    "# 3.1. Filter the hotel dataframe to get each preferred city\n",
    "Acapulco_df = hotel_df.loc[hotel_df['City'] == 'Acapulco']\n",
    "SRDS_df = hotel_df.loc[hotel_df['City'] == 'San Rafael Del Sur']\n",
    "Nicoya_df = hotel_df.loc[hotel_df['City'] == 'Nicoya']\n",
    "Laguna_df = hotel_df.loc[hotel_df['City'] == 'Laguna']\n",
    "\n",
    "# 3.2. Get the latitude-longitude pairs\n",
    "acapulco = (float(Acapulco_df['Lat']), float(Acapulco_df['Lng']))\n",
    "srds = (float(SRDS_df['Lat']), float(SRDS_df['Lng']))\n",
    "nicoya = (float(Nicoya_df['Lat']), float(Nicoya_df['Lng']))\n",
    "laguna = (float(Laguna_df['Lat']), float(Laguna_df['Lng']))\n",
    "\n",
    "# Call the cities latitude and longitude\n",
    "acapulco, srds, nicoya, laguna"
   ]
  },
  {
   "cell_type": "code",
   "execution_count": 5,
   "metadata": {},
   "outputs": [],
   "source": [
    "info_box_template = \"\"\"\n",
    "<dl>\n",
    "<dt>Hotel Name</dt><dd>{Hotel Name}</dd>\n",
    "<dt>City</dt><dd>{City}</dd>\n",
    "<dt>Country</dt><dd>{Country}</dd>\n",
    "<dt>Current Weather</dt><dd>{Current Description} and {Max Temp} °F</dd>\n",
    "</dl>\n",
    "\"\"\"\n",
    "# Store the DataFrame Row.\n",
    "hotel_info = [info_box_template.format(**row) for index, row in hotel_df.iterrows()]"
   ]
  },
  {
   "cell_type": "code",
   "execution_count": 6,
   "metadata": {},
   "outputs": [
    {
     "data": {
      "application/vnd.jupyter.widget-view+json": {
       "model_id": "2543e4de418e4d229c6d9595808e79ae",
       "version_major": 2,
       "version_minor": 0
      },
      "text/plain": [
       "Figure(layout=FigureLayout(height='420px'))"
      ]
     },
     "metadata": {},
     "output_type": "display_data"
    }
   ],
   "source": [
    "# Add marker for each city.\n",
    "locations = hotel_df[[\"Lat\", \"Lng\"]]\n",
    "max_temp = hotel_df[\"Max Temp\"]\n",
    "fig = gmaps.figure(center=laguna, zoom_level=2)\n",
    "marker_layer = gmaps.marker_layer(locations, info_box_content=hotel_info)\n",
    "# 4. Add directions layer with travel_mode\n",
    "nicoya2acapulco = gmaps.directions_layer(nicoya, acapulco, waypoints=[srds, laguna], travel_mode='DRIVING')\n",
    "fig.add_layer(nicoya2acapulco)\n",
    "fig.add_layer(marker_layer)\n",
    "# Call the figure to plot the data.\n",
    "fig"
   ]
  },
  {
   "cell_type": "code",
   "execution_count": 7,
   "metadata": {},
   "outputs": [
    {
     "data": {
      "text/html": [
       "<div>\n",
       "<style scoped>\n",
       "    .dataframe tbody tr th:only-of-type {\n",
       "        vertical-align: middle;\n",
       "    }\n",
       "\n",
       "    .dataframe tbody tr th {\n",
       "        vertical-align: top;\n",
       "    }\n",
       "\n",
       "    .dataframe thead th {\n",
       "        text-align: right;\n",
       "    }\n",
       "</style>\n",
       "<table border=\"1\" class=\"dataframe\">\n",
       "  <thead>\n",
       "    <tr style=\"text-align: right;\">\n",
       "      <th></th>\n",
       "      <th>City_ID</th>\n",
       "      <th>City</th>\n",
       "      <th>Country</th>\n",
       "      <th>Max Temp</th>\n",
       "      <th>Current Description</th>\n",
       "      <th>Lat</th>\n",
       "      <th>Lng</th>\n",
       "      <th>Hotel Name</th>\n",
       "    </tr>\n",
       "  </thead>\n",
       "  <tbody>\n",
       "    <tr>\n",
       "      <th>2</th>\n",
       "      <td>40</td>\n",
       "      <td>Acapulco</td>\n",
       "      <td>MX</td>\n",
       "      <td>80.6</td>\n",
       "      <td>scattered clouds</td>\n",
       "      <td>16.86</td>\n",
       "      <td>-99.88</td>\n",
       "      <td>Crowne Plaza Acapulco</td>\n",
       "    </tr>\n",
       "    <tr>\n",
       "      <th>42</th>\n",
       "      <td>273</td>\n",
       "      <td>Nicoya</td>\n",
       "      <td>CR</td>\n",
       "      <td>80.6</td>\n",
       "      <td>overcast clouds</td>\n",
       "      <td>10.15</td>\n",
       "      <td>-85.45</td>\n",
       "      <td>Las Aguilas</td>\n",
       "    </tr>\n",
       "    <tr>\n",
       "      <th>63</th>\n",
       "      <td>380</td>\n",
       "      <td>Laguna</td>\n",
       "      <td>BZ</td>\n",
       "      <td>77.0</td>\n",
       "      <td>thunderstorm with light rain</td>\n",
       "      <td>16.17</td>\n",
       "      <td>-88.94</td>\n",
       "      <td>Laguna Maya Lodge</td>\n",
       "    </tr>\n",
       "    <tr>\n",
       "      <th>87</th>\n",
       "      <td>492</td>\n",
       "      <td>San Rafael Del Sur</td>\n",
       "      <td>NI</td>\n",
       "      <td>77.0</td>\n",
       "      <td>scattered clouds</td>\n",
       "      <td>11.85</td>\n",
       "      <td>-86.44</td>\n",
       "      <td>Zammy T&amp;T</td>\n",
       "    </tr>\n",
       "  </tbody>\n",
       "</table>\n",
       "</div>"
      ],
      "text/plain": [
       "    City_ID                City Country  Max Temp  \\\n",
       "2        40            Acapulco      MX      80.6   \n",
       "42      273              Nicoya      CR      80.6   \n",
       "63      380              Laguna      BZ      77.0   \n",
       "87      492  San Rafael Del Sur      NI      77.0   \n",
       "\n",
       "             Current Description    Lat    Lng             Hotel Name  \n",
       "2               scattered clouds  16.86 -99.88  Crowne Plaza Acapulco  \n",
       "42               overcast clouds  10.15 -85.45            Las Aguilas  \n",
       "63  thunderstorm with light rain  16.17 -88.94      Laguna Maya Lodge  \n",
       "87              scattered clouds  11.85 -86.44              Zammy T&T  "
      ]
     },
     "execution_count": 7,
     "metadata": {},
     "output_type": "execute_result"
    }
   ],
   "source": [
    "# 6. Create a dataframe for the four cities\n",
    "cities_list = [Acapulco_df, Nicoya_df, Laguna_df, SRDS_df]\n",
    "cities_df = pd.concat(cities_list)\n",
    "cities_df"
   ]
  },
  {
   "cell_type": "code",
   "execution_count": 8,
   "metadata": {},
   "outputs": [],
   "source": [
    "info_box_template = \"\"\"\n",
    "<dl>\n",
    "<dt>Hotel Name</dt><dd>{Hotel Name}</dd>\n",
    "<dt>City</dt><dd>{City}</dd>\n",
    "<dt>Country</dt><dd>{Country}</dd>\n",
    "<dt>Current Weather</dt><dd>{Current Description} and {Max Temp} °F</dd>\n",
    "</dl>\n",
    "\"\"\"\n",
    "# Store the DataFrame Row.\n",
    "cities_info = [info_box_template.format(**row) for index, row in cities_df.iterrows()]"
   ]
  },
  {
   "cell_type": "code",
   "execution_count": 9,
   "metadata": {},
   "outputs": [
    {
     "data": {
      "application/vnd.jupyter.widget-view+json": {
       "model_id": "e7295f94aa3f4511abba00e3e4c6f9e7",
       "version_major": 2,
       "version_minor": 0
      },
      "text/plain": [
       "Figure(layout=FigureLayout(height='420px'))"
      ]
     },
     "metadata": {},
     "output_type": "display_data"
    }
   ],
   "source": [
    "# Add markers for four city.\n",
    "locations = cities_df[[\"Lat\", \"Lng\"]]\n",
    "max_temp = cities_df[\"Max Temp\"]\n",
    "fig = gmaps.figure(center=laguna, zoom_level=5)\n",
    "marker_layer = gmaps.marker_layer(locations, info_box_content=cities_info)\n",
    "fig.add_layer(marker_layer)\n",
    "# Call the figure to plot the data.\n",
    "fig"
   ]
  },
  {
   "cell_type": "code",
   "execution_count": null,
   "metadata": {},
   "outputs": [],
   "source": []
  }
 ],
 "metadata": {
  "kernelspec": {
   "display_name": "PythonData",
   "language": "python",
   "name": "pythondata"
  },
  "language_info": {
   "codemirror_mode": {
    "name": "ipython",
    "version": 3
   },
   "file_extension": ".py",
   "mimetype": "text/x-python",
   "name": "python",
   "nbconvert_exporter": "python",
   "pygments_lexer": "ipython3",
   "version": "3.6.9"
  }
 },
 "nbformat": 4,
 "nbformat_minor": 2
}
